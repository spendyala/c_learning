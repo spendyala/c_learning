{
  "nbformat": 4,
  "nbformat_minor": 0,
  "metadata": {
    "colab": {
      "provenance": [],
      "gpuType": "T4"
    },
    "kernelspec": {
      "name": "python3",
      "display_name": "Python 3"
    },
    "language_info": {
      "name": "python"
    },
    "accelerator": "GPU"
  },
  "cells": [
    {
      "cell_type": "code",
      "execution_count": null,
      "metadata": {
        "id": "hDcfAaKayqzG"
      },
      "outputs": [],
      "source": []
    },
    {
      "cell_type": "code",
      "source": [
        "!nvcc --version"
      ],
      "metadata": {
        "colab": {
          "base_uri": "https://localhost:8080/"
        },
        "id": "SbGVUJeMy3_W",
        "outputId": "06b87a86-ba56-49a8-8595-9d9bab99b190"
      },
      "execution_count": 2,
      "outputs": [
        {
          "output_type": "stream",
          "name": "stdout",
          "text": [
            "nvcc: NVIDIA (R) Cuda compiler driver\n",
            "Copyright (c) 2005-2023 NVIDIA Corporation\n",
            "Built on Tue_Aug_15_22:02:13_PDT_2023\n",
            "Cuda compilation tools, release 12.2, V12.2.140\n",
            "Build cuda_12.2.r12.2/compiler.33191640_0\n"
          ]
        }
      ]
    },
    {
      "cell_type": "code",
      "source": [
        "!pip install git+https://github.com/andreinechaev/nvcc4jupyter.git"
      ],
      "metadata": {
        "colab": {
          "base_uri": "https://localhost:8080/"
        },
        "id": "xR4LVBlRzBBd",
        "outputId": "dcb9a785-996d-454f-8916-04964191850a"
      },
      "execution_count": 3,
      "outputs": [
        {
          "output_type": "stream",
          "name": "stdout",
          "text": [
            "Collecting git+https://github.com/andreinechaev/nvcc4jupyter.git\n",
            "  Cloning https://github.com/andreinechaev/nvcc4jupyter.git to /tmp/pip-req-build-czc88qcy\n",
            "  Running command git clone --filter=blob:none --quiet https://github.com/andreinechaev/nvcc4jupyter.git /tmp/pip-req-build-czc88qcy\n",
            "  Resolved https://github.com/andreinechaev/nvcc4jupyter.git to commit 0d2ab99cccbbc682722e708515fe9c4cfc50185a\n",
            "  Preparing metadata (setup.py) ... \u001b[?25l\u001b[?25hdone\n",
            "Building wheels for collected packages: NVCCPlugin\n",
            "  Building wheel for NVCCPlugin (setup.py) ... \u001b[?25l\u001b[?25hdone\n",
            "  Created wheel for NVCCPlugin: filename=NVCCPlugin-0.0.2-py3-none-any.whl size=4716 sha256=72fc596ef31cf5cca35fd693f04b52d19b86a1321663c5e71f4f265a2688f012\n",
            "  Stored in directory: /tmp/pip-ephem-wheel-cache-_v8ltckr/wheels/a8/b9/18/23f8ef71ceb0f63297dd1903aedd067e6243a68ea756d6feea\n",
            "Successfully built NVCCPlugin\n",
            "Installing collected packages: NVCCPlugin\n",
            "Successfully installed NVCCPlugin-0.0.2\n"
          ]
        }
      ]
    },
    {
      "cell_type": "code",
      "source": [
        "%load_ext nvcc_plugin"
      ],
      "metadata": {
        "colab": {
          "base_uri": "https://localhost:8080/"
        },
        "id": "ePLCTmjPzHdI",
        "outputId": "7febc6e9-04dd-4e50-a634-bb1d773c9a3c"
      },
      "execution_count": 4,
      "outputs": [
        {
          "output_type": "stream",
          "name": "stdout",
          "text": [
            "created output directory at /content/src\n",
            "Out bin /content/result.out\n"
          ]
        }
      ]
    },
    {
      "cell_type": "code",
      "source": [],
      "metadata": {
        "id": "dLjMEez7zLus"
      },
      "execution_count": null,
      "outputs": []
    },
    {
      "cell_type": "code",
      "source": [
        "%%cu\n",
        "\n",
        "#include <stdio.h>\n",
        "\n",
        "__global__ void hello_world() {\n",
        "  printf(\"Hello, world!\\n\");\n",
        "}\n",
        "\n",
        "int main() {\n",
        "  hello_world<<<1, 1>>>();\n",
        "  return 0;\n",
        "}"
      ],
      "metadata": {
        "colab": {
          "base_uri": "https://localhost:8080/"
        },
        "id": "wqHksmlBy3MZ",
        "outputId": "7072e96c-c210-43fb-851e-55fdab956779"
      },
      "execution_count": 1,
      "outputs": [
        {
          "output_type": "stream",
          "name": "stderr",
          "text": [
            "UsageError: Cell magic `%%cu` not found.\n"
          ]
        }
      ]
    },
    {
      "cell_type": "code",
      "source": [
        "%%cu\n",
        "\n",
        "#include <stdio.h>\n",
        "#include <cuda.h>\n",
        "\n",
        "__global__ void add(int a, int b, int *c) {  // Kernel runs on the GPU(device)\n",
        "  *c = a + b;\n",
        "}\n",
        "\n",
        "int main() {\n",
        "  int a = 10;\n",
        "  int b = 20;\n",
        "  int c;\n",
        "\n",
        "  // Allocate memory on the device for the result\n",
        "  int *d_c;\n",
        "  cudaMalloc(&d_c, sizeof(int));\n",
        "\n",
        "  // Copy the data to the device\n",
        "  // cudaMemcpy(d_c, &c, sizeof(int), cudaMemcpyHostToDevice);\n",
        "\n",
        "  // Launch the kernel\n",
        "  add<<<1, 1>>>(a, b, d_c);\n",
        "\n",
        "  // Copy the result back to the host\n",
        "  cudaMemcpy(&c, d_c, sizeof(int), cudaMemcpyDeviceToHost);\n",
        "\n",
        "  // Print the result\n",
        "  printf(\"c = %d\\n\", c);\n",
        "\n",
        "  // Free the device memory\n",
        "  cudaFree(d_c);\n",
        "\n",
        "  return 0;\n",
        "}"
      ],
      "metadata": {
        "colab": {
          "base_uri": "https://localhost:8080/"
        },
        "id": "a6Ixo6XhzhvH",
        "outputId": "1961e691-f4a6-478f-daaa-3083d8e6a8bc"
      },
      "execution_count": 14,
      "outputs": [
        {
          "output_type": "stream",
          "name": "stdout",
          "text": [
            "c = 30\n",
            "\n"
          ]
        }
      ]
    },
    {
      "cell_type": "code",
      "source": [],
      "metadata": {
        "id": "hyyGrJ741EOc"
      },
      "execution_count": null,
      "outputs": []
    }
  ]
}