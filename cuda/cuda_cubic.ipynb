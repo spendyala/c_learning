{
  "nbformat": 4,
  "nbformat_minor": 0,
  "metadata": {
    "colab": {
      "provenance": [],
      "gpuType": "T4"
    },
    "kernelspec": {
      "name": "python3",
      "display_name": "Python 3"
    },
    "language_info": {
      "name": "python"
    },
    "accelerator": "GPU"
  },
  "cells": [
    {
      "cell_type": "code",
      "source": [
        "!nvcc --version"
      ],
      "metadata": {
        "colab": {
          "base_uri": "https://localhost:8080/"
        },
        "id": "SbGVUJeMy3_W",
        "outputId": "7c8d6251-1a17-45b7-d672-c900b6472869"
      },
      "execution_count": 2,
      "outputs": [
        {
          "output_type": "stream",
          "name": "stdout",
          "text": [
            "nvcc: NVIDIA (R) Cuda compiler driver\n",
            "Copyright (c) 2005-2023 NVIDIA Corporation\n",
            "Built on Tue_Aug_15_22:02:13_PDT_2023\n",
            "Cuda compilation tools, release 12.2, V12.2.140\n",
            "Build cuda_12.2.r12.2/compiler.33191640_0\n"
          ]
        }
      ]
    },
    {
      "cell_type": "code",
      "source": [
        "!pip install git+https://github.com/andreinechaev/nvcc4jupyter.git"
      ],
      "metadata": {
        "colab": {
          "base_uri": "https://localhost:8080/"
        },
        "id": "xR4LVBlRzBBd",
        "outputId": "7d878789-7c78-4113-cf03-6f05c22c3b62"
      },
      "execution_count": 3,
      "outputs": [
        {
          "output_type": "stream",
          "name": "stdout",
          "text": [
            "Collecting git+https://github.com/andreinechaev/nvcc4jupyter.git\n",
            "  Cloning https://github.com/andreinechaev/nvcc4jupyter.git to /tmp/pip-req-build-y6qlrvnv\n",
            "  Running command git clone --filter=blob:none --quiet https://github.com/andreinechaev/nvcc4jupyter.git /tmp/pip-req-build-y6qlrvnv\n",
            "  Resolved https://github.com/andreinechaev/nvcc4jupyter.git to commit 0d2ab99cccbbc682722e708515fe9c4cfc50185a\n",
            "  Preparing metadata (setup.py) ... \u001b[?25l\u001b[?25hdone\n",
            "Building wheels for collected packages: NVCCPlugin\n",
            "  Building wheel for NVCCPlugin (setup.py) ... \u001b[?25l\u001b[?25hdone\n",
            "  Created wheel for NVCCPlugin: filename=NVCCPlugin-0.0.2-py3-none-any.whl size=4716 sha256=fbb1d95f8a90bb855b1cc5727aef57cbeebe8fe7fa55a439bcfb2cbc9040ad84\n",
            "  Stored in directory: /tmp/pip-ephem-wheel-cache-ruf_5kr6/wheels/a8/b9/18/23f8ef71ceb0f63297dd1903aedd067e6243a68ea756d6feea\n",
            "Successfully built NVCCPlugin\n",
            "Installing collected packages: NVCCPlugin\n",
            "Successfully installed NVCCPlugin-0.0.2\n"
          ]
        }
      ]
    },
    {
      "cell_type": "code",
      "source": [
        "%load_ext nvcc_plugin"
      ],
      "metadata": {
        "colab": {
          "base_uri": "https://localhost:8080/"
        },
        "id": "ePLCTmjPzHdI",
        "outputId": "5d0f4de0-a86c-470f-93cb-a29c08906f89"
      },
      "execution_count": 4,
      "outputs": [
        {
          "output_type": "stream",
          "name": "stdout",
          "text": [
            "created output directory at /content/src\n",
            "Out bin /content/result.out\n"
          ]
        }
      ]
    },
    {
      "cell_type": "code",
      "source": [],
      "metadata": {
        "id": "dLjMEez7zLus"
      },
      "execution_count": null,
      "outputs": []
    },
    {
      "cell_type": "code",
      "source": [
        "%%cu\n",
        "#include <cuda.h>\n",
        "#include <stdio.h>\n",
        "#include <stdlib.h>\n",
        "#include <time.h>\n",
        "\n",
        "\n",
        "int* cube_host(int *a, int len, int *c){\n",
        "    for(int i=0; i<len; i++){\n",
        "        c[i] = a[i] * a[i] * a[i];\n",
        "    }\n",
        "    return c;\n",
        "}\n",
        "\n",
        "__global__ void cube_device(int *a, int *c) {\n",
        "  int i = threadIdx.x + blockDim.x * blockIdx.x;\n",
        "  c[i] = a[i] * a[i] * a[i];\n",
        "}\n",
        "\n",
        "int random(int min, int max){\n",
        "   return min + rand() / (RAND_MAX / (max - min + 1) + 1);\n",
        "}\n",
        "\n",
        "int main() {\n",
        "  clock_t start_t, end_t, start_t_k, end_t_k;\n",
        "  double total_t;\n",
        "  int *h_a, *h_c, *h_d;\n",
        "  int N = 1000000000;\n",
        "  int *d_a, *d_c;\n",
        "  int BLOCK_SIZE=1024, GRID_SIZE=65535;\n",
        "\n",
        "  // Allocating memory on the host\n",
        "  h_a = (int *)malloc(N*sizeof(int));\n",
        "  for(int i=0; i<N; i++){\n",
        "      h_a[i]= random(0, 100);\n",
        "  }\n",
        "\n",
        "  for(int i=0; i<3; i++){\n",
        "      printf(\"%d -> \", h_a[i]);\n",
        "  }\n",
        "  printf(\"\\n\");\n",
        "\n",
        "  // Allocating memory on the device\n",
        "  cudaMalloc((void **)&d_a, N*sizeof(int));\n",
        "  cudaMalloc((void **)&d_c, N*sizeof(int));\n",
        "  // Copy the data to the device\n",
        "\n",
        "  start_t = clock();\n",
        "  cudaMemcpy(d_a, h_a, N*sizeof(int), cudaMemcpyHostToDevice);\n",
        "  // Launch the kernel\n",
        "  start_t_k = clock();\n",
        "  cube_device<<<GRID_SIZE, BLOCK_SIZE>>>(d_a, d_c);\n",
        "  end_t_k = clock();\n",
        "  total_t = (double)(end_t_k - start_t_k)/ CLOCKS_PER_SEC;\n",
        "  printf(\"\\n Device Kernel Time %f\\n\", total_t);\n",
        "\n",
        "  h_c = (int *)malloc(N*sizeof(int));\n",
        "\n",
        "  // Copy the result back to the host\n",
        "  cudaMemcpy(h_c, d_c, N*sizeof(int), cudaMemcpyDeviceToHost);\n",
        "  end_t = clock();\n",
        "  total_t = (double)(end_t - start_t)/ CLOCKS_PER_SEC;\n",
        "  printf(\"\\n Device Time %f\\n\", total_t);\n",
        "\n",
        "  // Print the result\n",
        "  for(int i=0; i<3; i++){\n",
        "      printf(\"%d -> \", h_c[i]);\n",
        "  }\n",
        "  printf(\"\\n\");\n",
        "\n",
        "  // Free the device memory\n",
        "  cudaFree(d_a);\n",
        "  cudaFree(d_c);\n",
        "  free(h_c);\n",
        "\n",
        "  h_d = (int *)malloc(N*sizeof(int));\n",
        "  start_t = clock();\n",
        "  h_d = cube_host(h_a, N, h_d);\n",
        "  end_t = clock();\n",
        "  total_t = (double)(end_t - start_t)/ CLOCKS_PER_SEC;\n",
        "  // Print the result\n",
        "  for(int i=0; i<3; i++){\n",
        "      printf(\"%d -> \", h_d[i]);\n",
        "  }\n",
        "  printf(\"\\n CPU Time %f\\n\", total_t);\n",
        "\n",
        "  free(h_a);\n",
        "  free(h_d);\n",
        "\n",
        "\n",
        "  return 0;\n",
        "}"
      ],
      "metadata": {
        "id": "hyyGrJ741EOc",
        "colab": {
          "base_uri": "https://localhost:8080/"
        },
        "outputId": "b2e73174-6085-46a3-d06a-ce8deaec9df0"
      },
      "execution_count": 36,
      "outputs": [
        {
          "output_type": "stream",
          "name": "stdout",
          "text": [
            "84 -> 39 -> 79 -> \n",
            "\n",
            " Device Kernel Time 0.000267\n",
            "\n",
            " Device Time 3.925126\n",
            "592704 -> 59319 -> 493039 -> \n",
            "592704 -> 59319 -> 493039 -> \n",
            " CPU Time 6.170873\n",
            "\n"
          ]
        }
      ]
    },
    {
      "cell_type": "code",
      "source": [
        "import math\n",
        "math.pow(84, 3)"
      ],
      "metadata": {
        "colab": {
          "base_uri": "https://localhost:8080/"
        },
        "id": "L37BemWMOa4M",
        "outputId": "d978b3dd-b870-4aa7-8163-24c953cdc11a"
      },
      "execution_count": 17,
      "outputs": [
        {
          "output_type": "execute_result",
          "data": {
            "text/plain": [
              "592704.0"
            ]
          },
          "metadata": {},
          "execution_count": 17
        }
      ]
    },
    {
      "cell_type": "code",
      "source": [],
      "metadata": {
        "id": "T4RrI5yVT8Yu"
      },
      "execution_count": null,
      "outputs": []
    }
  ]
}